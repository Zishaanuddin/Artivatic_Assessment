{
  "nbformat": 4,
  "nbformat_minor": 0,
  "metadata": {
    "colab": {
      "name": "Artivatic_ML_Task.ipynb",
      "provenance": [],
      "collapsed_sections": []
    },
    "kernelspec": {
      "name": "python3",
      "display_name": "Python 3"
    },
    "language_info": {
      "name": "python"
    },
    "accelerator": "GPU"
  },
  "cells": [
    {
      "cell_type": "code",
      "metadata": {
        "colab": {
          "base_uri": "https://localhost:8080/"
        },
        "id": "gGBbGfSO4n1B",
        "outputId": "26736e31-e173-4583-b6b2-ecaa91af12ba"
      },
      "source": [
        "!unzip /content/drive/MyDrive/ML_Artivatic_dataset.zip"
      ],
      "execution_count": 1,
      "outputs": [
        {
          "output_type": "stream",
          "name": "stdout",
          "text": [
            "Archive:  /content/drive/MyDrive/ML_Artivatic_dataset.zip\n",
            "   creating: ML_Artivatic_dataset/\n",
            "  inflating: ML_Artivatic_dataset/sample_submission.csv  \n",
            "  inflating: ML_Artivatic_dataset/test_indessa.csv  \n",
            "  inflating: ML_Artivatic_dataset/train_indessa.csv  \n"
          ]
        }
      ]
    },
    {
      "cell_type": "code",
      "metadata": {
        "id": "vDT-o5PL3qla"
      },
      "source": [
        "# importing the important library\n",
        "import warnings\n",
        "import pandas as pd\n",
        "import numpy as np\n",
        "import matplotlib.pyplot as plt\n",
        "import re\n",
        "import seaborn as sns\n",
        "from tqdm import tqdm\n",
        "from sklearn.feature_extraction.text import TfidfVectorizer, CountVectorizer\n",
        "from wordcloud import WordCloud, STOPWORDS\n",
        "from sklearn.model_selection import train_test_split, RandomizedSearchCV, GridSearchCV\n",
        "from scipy.sparse import hstack\n",
        "from sklearn.metrics import confusion_matrix, accuracy_score, f1_score, precision_score, recall_score\n",
        "from scipy.stats import randint as sp_randint\n",
        "from sklearn.ensemble import RandomForestClassifier, ExtraTreesClassifier\n",
        "from sklearn.linear_model import LogisticRegression\n",
        "from sklearn.svm import SVC, NuSVC\n",
        "from sklearn.tree import DecisionTreeClassifier\n",
        "from xgboost import XGBClassifier\n",
        "from sklearn.neighbors import KNeighborsClassifier\n",
        "from sklearn.preprocessing import MinMaxScaler, LabelEncoder"
      ],
      "execution_count": 2,
      "outputs": []
    },
    {
      "cell_type": "code",
      "metadata": {
        "id": "59_-W80F8obG"
      },
      "source": [
        "train_dataset = pd.read_csv('/content/ML_Artivatic_dataset/train_indessa.csv')\n",
        "test_dataset = pd.read_csv('/content/ML_Artivatic_dataset/test_indessa.csv')"
      ],
      "execution_count": 22,
      "outputs": []
    },
    {
      "cell_type": "code",
      "metadata": {
        "colab": {
          "base_uri": "https://localhost:8080/"
        },
        "id": "bIUjMWhK896w",
        "outputId": "de1fd120-f644-471e-ca47-221f997a5851"
      },
      "source": [
        "print('Shape of train dataset is ', train_dataset.shape)\n",
        "print('Shape of test dataset is ', test_dataset.shape)"
      ],
      "execution_count": 4,
      "outputs": [
        {
          "output_type": "stream",
          "name": "stdout",
          "text": [
            "Shape of train dataset is  (532428, 45)\n",
            "Shape of test dataset is  (354951, 44)\n"
          ]
        }
      ]
    },
    {
      "cell_type": "code",
      "metadata": {
        "colab": {
          "base_uri": "https://localhost:8080/",
          "height": 462
        },
        "id": "Pebb32659U8-",
        "outputId": "dd696869-fad6-4b83-f8b3-c7a0b83705ab"
      },
      "source": [
        "train_dataset.head()"
      ],
      "execution_count": 5,
      "outputs": [
        {
          "output_type": "execute_result",
          "data": {
            "text/html": [
              "<div>\n",
              "<style scoped>\n",
              "    .dataframe tbody tr th:only-of-type {\n",
              "        vertical-align: middle;\n",
              "    }\n",
              "\n",
              "    .dataframe tbody tr th {\n",
              "        vertical-align: top;\n",
              "    }\n",
              "\n",
              "    .dataframe thead th {\n",
              "        text-align: right;\n",
              "    }\n",
              "</style>\n",
              "<table border=\"1\" class=\"dataframe\">\n",
              "  <thead>\n",
              "    <tr style=\"text-align: right;\">\n",
              "      <th></th>\n",
              "      <th>member_id</th>\n",
              "      <th>loan_amnt</th>\n",
              "      <th>funded_amnt</th>\n",
              "      <th>funded_amnt_inv</th>\n",
              "      <th>term</th>\n",
              "      <th>batch_enrolled</th>\n",
              "      <th>int_rate</th>\n",
              "      <th>grade</th>\n",
              "      <th>sub_grade</th>\n",
              "      <th>emp_title</th>\n",
              "      <th>emp_length</th>\n",
              "      <th>home_ownership</th>\n",
              "      <th>annual_inc</th>\n",
              "      <th>verification_status</th>\n",
              "      <th>pymnt_plan</th>\n",
              "      <th>desc</th>\n",
              "      <th>purpose</th>\n",
              "      <th>title</th>\n",
              "      <th>zip_code</th>\n",
              "      <th>addr_state</th>\n",
              "      <th>dti</th>\n",
              "      <th>delinq_2yrs</th>\n",
              "      <th>inq_last_6mths</th>\n",
              "      <th>mths_since_last_delinq</th>\n",
              "      <th>mths_since_last_record</th>\n",
              "      <th>open_acc</th>\n",
              "      <th>pub_rec</th>\n",
              "      <th>revol_bal</th>\n",
              "      <th>revol_util</th>\n",
              "      <th>total_acc</th>\n",
              "      <th>initial_list_status</th>\n",
              "      <th>total_rec_int</th>\n",
              "      <th>total_rec_late_fee</th>\n",
              "      <th>recoveries</th>\n",
              "      <th>collection_recovery_fee</th>\n",
              "      <th>collections_12_mths_ex_med</th>\n",
              "      <th>mths_since_last_major_derog</th>\n",
              "      <th>application_type</th>\n",
              "      <th>verification_status_joint</th>\n",
              "      <th>last_week_pay</th>\n",
              "      <th>acc_now_delinq</th>\n",
              "      <th>tot_coll_amt</th>\n",
              "      <th>tot_cur_bal</th>\n",
              "      <th>total_rev_hi_lim</th>\n",
              "      <th>loan_status</th>\n",
              "    </tr>\n",
              "  </thead>\n",
              "  <tbody>\n",
              "    <tr>\n",
              "      <th>0</th>\n",
              "      <td>58189336</td>\n",
              "      <td>14350</td>\n",
              "      <td>14350</td>\n",
              "      <td>14350.0</td>\n",
              "      <td>36 months</td>\n",
              "      <td></td>\n",
              "      <td>19.19</td>\n",
              "      <td>E</td>\n",
              "      <td>E3</td>\n",
              "      <td>clerk</td>\n",
              "      <td>9 years</td>\n",
              "      <td>OWN</td>\n",
              "      <td>28700.0</td>\n",
              "      <td>Source Verified</td>\n",
              "      <td>n</td>\n",
              "      <td>NaN</td>\n",
              "      <td>debt_consolidation</td>\n",
              "      <td>Debt consolidation</td>\n",
              "      <td>349xx</td>\n",
              "      <td>FL</td>\n",
              "      <td>33.88</td>\n",
              "      <td>0.0</td>\n",
              "      <td>1.0</td>\n",
              "      <td>50.0</td>\n",
              "      <td>75.0</td>\n",
              "      <td>14.0</td>\n",
              "      <td>1.0</td>\n",
              "      <td>22515.0</td>\n",
              "      <td>73.1</td>\n",
              "      <td>28.0</td>\n",
              "      <td>f</td>\n",
              "      <td>1173.84</td>\n",
              "      <td>0.0</td>\n",
              "      <td>0.0</td>\n",
              "      <td>0.0</td>\n",
              "      <td>0.0</td>\n",
              "      <td>74.0</td>\n",
              "      <td>INDIVIDUAL</td>\n",
              "      <td>NaN</td>\n",
              "      <td>26th week</td>\n",
              "      <td>0.0</td>\n",
              "      <td>0.0</td>\n",
              "      <td>28699.0</td>\n",
              "      <td>30800.0</td>\n",
              "      <td>0</td>\n",
              "    </tr>\n",
              "    <tr>\n",
              "      <th>1</th>\n",
              "      <td>70011223</td>\n",
              "      <td>4800</td>\n",
              "      <td>4800</td>\n",
              "      <td>4800.0</td>\n",
              "      <td>36 months</td>\n",
              "      <td>BAT1586599</td>\n",
              "      <td>10.99</td>\n",
              "      <td>B</td>\n",
              "      <td>B4</td>\n",
              "      <td>Human Resources Specialist</td>\n",
              "      <td>&lt; 1 year</td>\n",
              "      <td>MORTGAGE</td>\n",
              "      <td>65000.0</td>\n",
              "      <td>Source Verified</td>\n",
              "      <td>n</td>\n",
              "      <td>NaN</td>\n",
              "      <td>home_improvement</td>\n",
              "      <td>Home improvement</td>\n",
              "      <td>209xx</td>\n",
              "      <td>MD</td>\n",
              "      <td>3.64</td>\n",
              "      <td>0.0</td>\n",
              "      <td>1.0</td>\n",
              "      <td>NaN</td>\n",
              "      <td>NaN</td>\n",
              "      <td>6.0</td>\n",
              "      <td>0.0</td>\n",
              "      <td>7624.0</td>\n",
              "      <td>23.2</td>\n",
              "      <td>13.0</td>\n",
              "      <td>w</td>\n",
              "      <td>83.95</td>\n",
              "      <td>0.0</td>\n",
              "      <td>0.0</td>\n",
              "      <td>0.0</td>\n",
              "      <td>0.0</td>\n",
              "      <td>NaN</td>\n",
              "      <td>INDIVIDUAL</td>\n",
              "      <td>NaN</td>\n",
              "      <td>9th week</td>\n",
              "      <td>0.0</td>\n",
              "      <td>0.0</td>\n",
              "      <td>9974.0</td>\n",
              "      <td>32900.0</td>\n",
              "      <td>0</td>\n",
              "    </tr>\n",
              "    <tr>\n",
              "      <th>2</th>\n",
              "      <td>70255675</td>\n",
              "      <td>10000</td>\n",
              "      <td>10000</td>\n",
              "      <td>10000.0</td>\n",
              "      <td>36 months</td>\n",
              "      <td>BAT1586599</td>\n",
              "      <td>7.26</td>\n",
              "      <td>A</td>\n",
              "      <td>A4</td>\n",
              "      <td>Driver</td>\n",
              "      <td>2 years</td>\n",
              "      <td>OWN</td>\n",
              "      <td>45000.0</td>\n",
              "      <td>Not Verified</td>\n",
              "      <td>n</td>\n",
              "      <td>NaN</td>\n",
              "      <td>debt_consolidation</td>\n",
              "      <td>Debt consolidation</td>\n",
              "      <td>447xx</td>\n",
              "      <td>OH</td>\n",
              "      <td>18.42</td>\n",
              "      <td>0.0</td>\n",
              "      <td>0.0</td>\n",
              "      <td>NaN</td>\n",
              "      <td>NaN</td>\n",
              "      <td>5.0</td>\n",
              "      <td>0.0</td>\n",
              "      <td>10877.0</td>\n",
              "      <td>31.2</td>\n",
              "      <td>19.0</td>\n",
              "      <td>w</td>\n",
              "      <td>56.47</td>\n",
              "      <td>0.0</td>\n",
              "      <td>0.0</td>\n",
              "      <td>0.0</td>\n",
              "      <td>0.0</td>\n",
              "      <td>NaN</td>\n",
              "      <td>INDIVIDUAL</td>\n",
              "      <td>NaN</td>\n",
              "      <td>9th week</td>\n",
              "      <td>0.0</td>\n",
              "      <td>65.0</td>\n",
              "      <td>38295.0</td>\n",
              "      <td>34900.0</td>\n",
              "      <td>0</td>\n",
              "    </tr>\n",
              "    <tr>\n",
              "      <th>3</th>\n",
              "      <td>1893936</td>\n",
              "      <td>15000</td>\n",
              "      <td>15000</td>\n",
              "      <td>15000.0</td>\n",
              "      <td>36 months</td>\n",
              "      <td>BAT4808022</td>\n",
              "      <td>19.72</td>\n",
              "      <td>D</td>\n",
              "      <td>D5</td>\n",
              "      <td>Us office of Personnel Management</td>\n",
              "      <td>10+ years</td>\n",
              "      <td>RENT</td>\n",
              "      <td>105000.0</td>\n",
              "      <td>Not Verified</td>\n",
              "      <td>n</td>\n",
              "      <td>&gt; My goal is to obtain a loan to pay off my hi...</td>\n",
              "      <td>debt_consolidation</td>\n",
              "      <td>Debt consolidation</td>\n",
              "      <td>221xx</td>\n",
              "      <td>VA</td>\n",
              "      <td>14.97</td>\n",
              "      <td>0.0</td>\n",
              "      <td>2.0</td>\n",
              "      <td>46.0</td>\n",
              "      <td>NaN</td>\n",
              "      <td>10.0</td>\n",
              "      <td>0.0</td>\n",
              "      <td>13712.0</td>\n",
              "      <td>55.5</td>\n",
              "      <td>21.0</td>\n",
              "      <td>f</td>\n",
              "      <td>4858.62</td>\n",
              "      <td>0.0</td>\n",
              "      <td>0.0</td>\n",
              "      <td>0.0</td>\n",
              "      <td>0.0</td>\n",
              "      <td>NaN</td>\n",
              "      <td>INDIVIDUAL</td>\n",
              "      <td>NaN</td>\n",
              "      <td>135th week</td>\n",
              "      <td>0.0</td>\n",
              "      <td>0.0</td>\n",
              "      <td>55564.0</td>\n",
              "      <td>24700.0</td>\n",
              "      <td>0</td>\n",
              "    </tr>\n",
              "    <tr>\n",
              "      <th>4</th>\n",
              "      <td>7652106</td>\n",
              "      <td>16000</td>\n",
              "      <td>16000</td>\n",
              "      <td>16000.0</td>\n",
              "      <td>36 months</td>\n",
              "      <td>BAT2833642</td>\n",
              "      <td>10.64</td>\n",
              "      <td>B</td>\n",
              "      <td>B2</td>\n",
              "      <td>LAUSD-HOLLYWOOD HIGH SCHOOL</td>\n",
              "      <td>10+ years</td>\n",
              "      <td>RENT</td>\n",
              "      <td>52000.0</td>\n",
              "      <td>Verified</td>\n",
              "      <td>n</td>\n",
              "      <td>NaN</td>\n",
              "      <td>credit_card</td>\n",
              "      <td>refi</td>\n",
              "      <td>900xx</td>\n",
              "      <td>CA</td>\n",
              "      <td>20.16</td>\n",
              "      <td>0.0</td>\n",
              "      <td>0.0</td>\n",
              "      <td>NaN</td>\n",
              "      <td>NaN</td>\n",
              "      <td>11.0</td>\n",
              "      <td>0.0</td>\n",
              "      <td>35835.0</td>\n",
              "      <td>76.2</td>\n",
              "      <td>27.0</td>\n",
              "      <td>w</td>\n",
              "      <td>2296.41</td>\n",
              "      <td>0.0</td>\n",
              "      <td>0.0</td>\n",
              "      <td>0.0</td>\n",
              "      <td>0.0</td>\n",
              "      <td>NaN</td>\n",
              "      <td>INDIVIDUAL</td>\n",
              "      <td>NaN</td>\n",
              "      <td>96th week</td>\n",
              "      <td>0.0</td>\n",
              "      <td>0.0</td>\n",
              "      <td>47159.0</td>\n",
              "      <td>47033.0</td>\n",
              "      <td>0</td>\n",
              "    </tr>\n",
              "  </tbody>\n",
              "</table>\n",
              "</div>"
            ],
            "text/plain": [
              "   member_id  loan_amnt  ...  total_rev_hi_lim  loan_status\n",
              "0   58189336      14350  ...           30800.0            0\n",
              "1   70011223       4800  ...           32900.0            0\n",
              "2   70255675      10000  ...           34900.0            0\n",
              "3    1893936      15000  ...           24700.0            0\n",
              "4    7652106      16000  ...           47033.0            0\n",
              "\n",
              "[5 rows x 45 columns]"
            ]
          },
          "metadata": {},
          "execution_count": 5
        }
      ]
    },
    {
      "cell_type": "code",
      "metadata": {
        "id": "YFvI97aD9i7L"
      },
      "source": [
        "#Lets check the NaN values in the train dataset\n",
        "\n",
        "train_nan = []\n",
        "test_nan = []\n",
        "\n",
        "for col in train_dataset.columns:\n",
        "    train_nan.append(train_dataset[col].isnull().sum())\n",
        "\n",
        "for col in test_dataset.columns:\n",
        "    test_nan.append(test_dataset[col].isnull().sum())"
      ],
      "execution_count": 6,
      "outputs": []
    },
    {
      "cell_type": "code",
      "metadata": {
        "colab": {
          "base_uri": "https://localhost:8080/",
          "height": 956
        },
        "id": "dwoAjHa0-of0",
        "outputId": "4d716c16-a9b1-48e5-d0bd-6e9991643adb"
      },
      "source": [
        "plt.figure(figsize=(12,15))\n",
        "sns.barplot(train_nan, train_dataset.columns)\n",
        "plt.xlabel('Counts', fontsize=15)\n",
        "plt.ylabel('Feature Name', fontsize=15)\n",
        "plt.title(\"NaN values counts in Train Dataset\", fontsize=15)\n",
        "plt.show()"
      ],
      "execution_count": 7,
      "outputs": [
        {
          "output_type": "stream",
          "name": "stderr",
          "text": [
            "/usr/local/lib/python3.7/dist-packages/seaborn/_decorators.py:43: FutureWarning: Pass the following variables as keyword args: x, y. From version 0.12, the only valid positional argument will be `data`, and passing other arguments without an explicit keyword will result in an error or misinterpretation.\n",
            "  FutureWarning\n"
          ]
        },
        {
          "output_type": "display_data",
          "data": {
            "image/png": "[encoded data removed]",
            "text/plain": [
              "<Figure size 864x1080 with 1 Axes>"
            ]
          },
          "metadata": {
            "needs_background": "light"
          }
        }
      ]
    },
    {
      "cell_type": "code",
      "metadata": {
        "colab": {
          "base_uri": "https://localhost:8080/",
          "height": 954
        },
        "id": "KWj1xqdg_qcT",
        "outputId": "b79436f4-d5c6-48a9-dc04-289104e5a724"
      },
      "source": [
        "plt.figure(figsize=(12,15))\n",
        "sns.barplot(test_nan, test_dataset.columns)\n",
        "plt.xlabel('Counts', fontsize=15)\n",
        "plt.ylabel('Feature Name', fontsize=15)\n",
        "plt.title(\"NaN values counts in Test Dataset\", fontsize=15)\n",
        "plt.show()"
      ],
      "execution_count": 8,
      "outputs": [
        {
          "output_type": "stream",
          "name": "stderr",
          "text": [
            "/usr/local/lib/python3.7/dist-packages/seaborn/_decorators.py:43: FutureWarning: Pass the following variables as keyword args: x, y. From version 0.12, the only valid positional argument will be `data`, and passing other arguments without an explicit keyword will result in an error or misinterpretation.\n",
            "  FutureWarning\n"
          ]
        },
        {
          "output_type": "display_data",
          "data": {
            "image/png": "[encoded data removed]",
            "text/plain": [
              "<Figure size 864x1080 with 1 Axes>"
            ]
          },
          "metadata": {
            "needs_background": "light"
          }
        }
      ]
    },
    {
      "cell_type": "markdown",
      "metadata": {
        "id": "8agjXGZMs26F"
      },
      "source": [
        "\n",
        "**The Distribution of the Missing values are same in Train & Test dataset**"
      ]
    },
    {
      "cell_type": "code",
      "metadata": {
        "id": "ngvAqjdNMl1P"
      },
      "source": [
        "def handle_missing_values(train, test):\n",
        "    '''This function removes the missing values from the dataset'''\n",
        "\n",
        "    # this list is a categorical feature lists\n",
        "    categorical_columns = ['term', 'batch_enrolled', 'grade', 'sub_grade', 'emp_title', 'emp_length', 'home_ownership', 'verification_status', 'pymnt_plan', \n",
        "                       'purpose', 'title', 'zip_code', 'addr_state', 'desc', 'initial_list_status', 'application_type', 'last_week_pay']\n",
        "\n",
        "    for col in train.columns:           \n",
        "      if col not in categorical_columns:\n",
        "          if train[col].isnull().sum() > 1000:    # if missing values counts is more than 1000 we will impute 0 for the continues feature\n",
        "              train[col] = train[col].fillna(0)\n",
        "              test[col] = test[col].fillna(0)\n",
        "          else:                                   # impute the median w.r.t to grade feature \n",
        "              train[col] = train[col].fillna(train.groupby('grade')[col].transform('median'))\n",
        "              test[col] = test[col].fillna(test.groupby('grade')[col].transform('median'))\n",
        "      else:                                       # impute missing values as missing which act as a new category for categorical feature\n",
        "          train[col] = train[col].fillna('missing') \n",
        "          test[col] = test[col].fillna('missing')\n",
        "\n",
        "    return train, test"
      ],
      "execution_count": 6,
      "outputs": []
    },
    {
      "cell_type": "code",
      "metadata": {
        "id": "EjOEaP_V7_O5"
      },
      "source": [
        "y = train_dataset['loan_status']    \n",
        "\n",
        "# here we are dropping the member id, loan_status & verification_status_joint, verification_status_joint is dropped because 90 % datapoints is missing\n",
        "train_dataset = train_dataset.drop(['member_id', 'loan_status', 'verification_status_joint'], axis=1)\n",
        "test_dataset = test_dataset.drop(['member_id', 'verification_status_joint'], axis=1)"
      ],
      "execution_count": 7,
      "outputs": []
    },
    {
      "cell_type": "code",
      "metadata": {
        "id": "4-GKtRBe08bB"
      },
      "source": [
        "train_dataset, test_dataset = handle_missing_values(train_dataset, test_dataset)"
      ],
      "execution_count": 8,
      "outputs": []
    },
    {
      "cell_type": "code",
      "metadata": {
        "id": "LP-3vgLK0LIj"
      },
      "source": [
        "def normalize(train, test):\n",
        "    '''This function standardize each continues feature in same scale'''\n",
        "    standardizer = MinMaxScaler()\n",
        "    categorical_columns = ['term', 'batch_enrolled', 'grade', 'sub_grade', 'emp_title', 'emp_length', 'home_ownership', 'verification_status', 'pymnt_plan', \n",
        "                       'purpose', 'title', 'zip_code', 'addr_state','desc', 'initial_list_status', 'application_type', 'last_week_pay']\n",
        "    \n",
        "    for col in train.columns:\n",
        "      if col not in categorical_columns:\n",
        "        train[col] = standardizer.fit_transform(train[col].values.reshape(-1, 1))\n",
        "        test[col] = standardizer.transform(test[col].values.reshape(-1, 1))\n",
        "    return train, test\n",
        "\n",
        "def categorical_encoder(train, test):\n",
        "    '''This function encode the categorical feature'''\n",
        "    encoder = LabelEncoder()\n",
        "    categorical_columns = ['term', 'batch_enrolled', 'grade', 'sub_grade', 'emp_title', 'emp_length', 'home_ownership', 'verification_status', 'pymnt_plan', \n",
        "                       'purpose', 'title', 'zip_code', 'addr_state', 'initial_list_status', 'desc', 'application_type', 'last_week_pay']\n",
        "    for col in categorical_columns:\n",
        "        if col == 'desc':\n",
        "          train[col] = train[col].apply(lambda x: 0 if x == 'missing' else 1 )\n",
        "          test[col] = test[col].apply(lambda x: 0 if x == 'missing' else 1 )\n",
        "        else:\n",
        "          uniques = train[col].unique().tolist() + test[col].unique().tolist()\n",
        "          encoder.fit(uniques)\n",
        "          train[col] = encoder.transform(train[col].astype(str))\n",
        "          test[col] = encoder.transform(test[col].astype(str))\n",
        "\n",
        "    return train, test\n",
        "\n",
        "def preprocessing_data(train, test):\n",
        "    '''This function preprocess the data for the training'''\n",
        "    train, test = normalize(train, test)\n",
        "    train, test = categorical_encoder(train, test)\n",
        "\n",
        "    return train, test\n",
        "\n",
        "Train, Test = preprocessing_data(train_dataset, test_dataset)"
      ],
      "execution_count": 9,
      "outputs": []
    },
    {
      "cell_type": "code",
      "metadata": {
        "id": "Owhd5ZMhXjzJ"
      },
      "source": [
        "# splitting the train dataset into Train & CV with size of CV is 20% \n",
        "X_train, X_cv, y_train, y_cv = train_test_split(Train, y, test_size=0.2, stratify=y)"
      ],
      "execution_count": 10,
      "outputs": []
    },
    {
      "cell_type": "code",
      "metadata": {
        "colab": {
          "base_uri": "https://localhost:8080/"
        },
        "id": "t1PkrfyfX8NP",
        "outputId": "b75f1084-5e43-495d-d51f-61eee43223f9"
      },
      "source": [
        "# randomized search CV for hyperparameter tunning.\n",
        "XGB=XGBClassifier(tree_method='gpu_hist')\n",
        "params={\n",
        "    'learning_rate':[0.001, 0.01, 0.1, 1],\n",
        "     'n_estimators':[100, 250, 500, 1000],\n",
        "     'max_depth':[5,8,10],\n",
        "    'colsample_bytree' : [0.5, 0.75, 1],\n",
        "    'subsample': [0.5, 0.75, 1]\n",
        "}\n",
        "random_cfl=RandomizedSearchCV(XGB, param_distributions=params, cv=5, scoring='roc_auc', return_train_score=True, verbose=42,n_jobs=-1)\n",
        "random_cfl.fit(X_train, y_train)"
      ],
      "execution_count": 11,
      "outputs": [
        {
          "output_type": "stream",
          "name": "stdout",
          "text": [
            "Fitting 5 folds for each of 10 candidates, totalling 50 fits\n"
          ]
        },
        {
          "output_type": "stream",
          "name": "stderr",
          "text": [
            "[Parallel(n_jobs=-1)]: Using backend LokyBackend with 2 concurrent workers.\n",
            "[Parallel(n_jobs=-1)]: Done   1 tasks      | elapsed:  1.9min\n",
            "[Parallel(n_jobs=-1)]: Done   2 tasks      | elapsed:  1.9min\n",
            "[Parallel(n_jobs=-1)]: Done   3 tasks      | elapsed:  3.7min\n",
            "[Parallel(n_jobs=-1)]: Done   4 tasks      | elapsed:  3.7min\n",
            "[Parallel(n_jobs=-1)]: Done   5 tasks      | elapsed:  8.4min\n",
            "[Parallel(n_jobs=-1)]: Done   6 tasks      | elapsed: 21.9min\n",
            "[Parallel(n_jobs=-1)]: Done   7 tasks      | elapsed: 29.6min\n",
            "[Parallel(n_jobs=-1)]: Done   8 tasks      | elapsed: 42.6min\n",
            "[Parallel(n_jobs=-1)]: Done   9 tasks      | elapsed: 51.1min\n",
            "[Parallel(n_jobs=-1)]: Done  10 tasks      | elapsed: 53.0min\n",
            "[Parallel(n_jobs=-1)]: Done  11 tasks      | elapsed: 54.8min\n",
            "[Parallel(n_jobs=-1)]: Done  12 tasks      | elapsed: 56.6min\n",
            "[Parallel(n_jobs=-1)]: Done  13 tasks      | elapsed: 58.5min\n",
            "[Parallel(n_jobs=-1)]: Done  14 tasks      | elapsed: 60.3min\n",
            "[Parallel(n_jobs=-1)]: Done  15 tasks      | elapsed: 61.8min\n",
            "[Parallel(n_jobs=-1)]: Done  16 tasks      | elapsed: 66.1min\n",
            "[Parallel(n_jobs=-1)]: Done  17 tasks      | elapsed: 67.1min\n",
            "[Parallel(n_jobs=-1)]: Done  18 tasks      | elapsed: 71.1min\n",
            "[Parallel(n_jobs=-1)]: Done  19 tasks      | elapsed: 72.8min\n",
            "[Parallel(n_jobs=-1)]: Done  20 tasks      | elapsed: 76.5min\n",
            "[Parallel(n_jobs=-1)]: Done  21 tasks      | elapsed: 86.6min\n",
            "[Parallel(n_jobs=-1)]: Done  22 tasks      | elapsed: 90.5min\n",
            "[Parallel(n_jobs=-1)]: Done  23 tasks      | elapsed: 100.4min\n",
            "[Parallel(n_jobs=-1)]: Done  24 tasks      | elapsed: 104.7min\n",
            "[Parallel(n_jobs=-1)]: Done  25 tasks      | elapsed: 110.4min\n",
            "[Parallel(n_jobs=-1)]: Done  26 tasks      | elapsed: 113.4min\n",
            "[Parallel(n_jobs=-1)]: Done  27 tasks      | elapsed: 115.8min\n",
            "[Parallel(n_jobs=-1)]: Done  28 tasks      | elapsed: 118.6min\n",
            "[Parallel(n_jobs=-1)]: Done  29 tasks      | elapsed: 120.9min\n",
            "[Parallel(n_jobs=-1)]: Done  30 tasks      | elapsed: 123.4min\n",
            "[Parallel(n_jobs=-1)]: Done  31 tasks      | elapsed: 154.0min\n",
            "[Parallel(n_jobs=-1)]: Done  32 tasks      | elapsed: 156.9min\n",
            "[Parallel(n_jobs=-1)]: Done  33 tasks      | elapsed: 186.9min\n",
            "[Parallel(n_jobs=-1)]: Done  34 tasks      | elapsed: 190.3min\n",
            "[Parallel(n_jobs=-1)]: Done  35 tasks      | elapsed: 217.9min\n",
            "[Parallel(n_jobs=-1)]: Done  36 tasks      | elapsed: 224.5min\n",
            "[Parallel(n_jobs=-1)]: Done  37 tasks      | elapsed: 246.7min\n",
            "[Parallel(n_jobs=-1)]: Done  38 tasks      | elapsed: 255.6min\n",
            "[Parallel(n_jobs=-1)]: Done  39 tasks      | elapsed: 278.6min\n",
            "[Parallel(n_jobs=-1)]: Done  40 tasks      | elapsed: 280.9min\n",
            "[Parallel(n_jobs=-1)]: Done  41 tasks      | elapsed: 283.2min\n",
            "[Parallel(n_jobs=-1)]: Done  42 tasks      | elapsed: 285.5min\n",
            "[Parallel(n_jobs=-1)]: Done  43 tasks      | elapsed: 286.5min\n",
            "[Parallel(n_jobs=-1)]: Done  44 tasks      | elapsed: 287.4min\n",
            "[Parallel(n_jobs=-1)]: Done  45 tasks      | elapsed: 287.9min\n",
            "[Parallel(n_jobs=-1)]: Done  46 tasks      | elapsed: 290.1min\n",
            "[Parallel(n_jobs=-1)]: Done  47 tasks      | elapsed: 290.4min\n",
            "[Parallel(n_jobs=-1)]: Done  50 out of  50 | elapsed: 294.1min finished\n"
          ]
        },
        {
          "output_type": "execute_result",
          "data": {
            "text/plain": [
              "RandomizedSearchCV(cv=5, error_score=nan,\n",
              "                   estimator=XGBClassifier(base_score=0.5, booster='gbtree',\n",
              "                                           colsample_bylevel=1,\n",
              "                                           colsample_bynode=1,\n",
              "                                           colsample_bytree=1, gamma=0,\n",
              "                                           learning_rate=0.1, max_delta_step=0,\n",
              "                                           max_depth=3, min_child_weight=1,\n",
              "                                           missing=None, n_estimators=100,\n",
              "                                           n_jobs=1, nthread=None,\n",
              "                                           objective='binary:logistic',\n",
              "                                           random_state=0, reg_alpha=0,\n",
              "                                           reg_lambda=1, sc...\n",
              "                                           seed=None, silent=None, subsample=1,\n",
              "                                           tree_method='gpu_hist',\n",
              "                                           verbosity=1),\n",
              "                   iid='deprecated', n_iter=10, n_jobs=-1,\n",
              "                   param_distributions={'colsample_bytree': [0.5, 0.75, 1],\n",
              "                                        'learning_rate': [0.001, 0.01, 0.1, 1],\n",
              "                                        'max_depth': [5, 8, 10],\n",
              "                                        'n_estimators': [100, 250, 500, 1000],\n",
              "                                        'subsample': [0.5, 0.75, 1]},\n",
              "                   pre_dispatch='2*n_jobs', random_state=None, refit=True,\n",
              "                   return_train_score=True, scoring='roc_auc', verbose=42)"
            ]
          },
          "metadata": {},
          "execution_count": 11
        }
      ]
    },
    {
      "cell_type": "code",
      "metadata": {
        "colab": {
          "base_uri": "https://localhost:8080/",
          "height": 296
        },
        "id": "409Lj3R0IJM_",
        "outputId": "c1e2d446-fe89-403b-8aa4-1f81ce4003d5"
      },
      "source": [
        "# plotting the Hyperparameter tunning graph \n",
        "results = pd.DataFrame.from_dict(random_cfl.cv_results_)\n",
        "results = results.sort_values(['param_n_estimators'])\n",
        "\n",
        "train_score= results['mean_train_score']\n",
        "cv_score = results['mean_test_score'] \n",
        "alpha =  results['param_n_estimators']\n",
        "\n",
        "plt.plot(alpha, train_score, label='Train ROC_AUC Score')\n",
        "\n",
        "plt.plot(alpha, cv_score, label='CV ROC_AUC Score')\n",
        "\n",
        "plt.scatter(alpha, train_score, label='Train ROC_AUC Score')\n",
        "plt.scatter(alpha, cv_score, label='CV ROC_AUC Score')\n",
        "\n",
        "plt.legend()\n",
        "plt.xlabel(\"n_estimators: hyperparameter\")\n",
        "plt.ylabel(\"ROC_AUC Score\")\n",
        "plt.title(\"Hyper parameter Vs ROC_AUC Score plot\")\n",
        "plt.grid()\n",
        "plt.show()"
      ],
      "execution_count": 14,
      "outputs": [
        {
          "output_type": "display_data",
          "data": {
            "image/png": "[encoded data removed]",
            "text/plain": [
              "<Figure size 432x288 with 1 Axes>"
            ]
          },
          "metadata": {
            "needs_background": "light"
          }
        }
      ]
    },
    {
      "cell_type": "code",
      "metadata": {
        "colab": {
          "base_uri": "https://localhost:8080/"
        },
        "id": "ubPeKQo6Yeu9",
        "outputId": "7fc4235e-cdc8-46e3-be45-e765263b8959"
      },
      "source": [
        "print(f'Best parameter for XGBoost are {random_cfl.best_params_} with best score is {np.round(random_cfl.best_score_, 4)}')"
      ],
      "execution_count": 34,
      "outputs": [
        {
          "output_type": "stream",
          "name": "stdout",
          "text": [
            "Best parameter for XGBoost are {'subsample': 1, 'n_estimators': 1000, 'max_depth': 10, 'learning_rate': 0.01, 'colsample_bytree': 0.75} with best score is 0.9591\n"
          ]
        }
      ]
    },
    {
      "cell_type": "code",
      "metadata": {
        "colab": {
          "base_uri": "https://localhost:8080/"
        },
        "id": "Xex41iaQl2A8",
        "outputId": "8c2dec26-1ab5-4a01-9f48-b8c0fb81b9fa"
      },
      "source": [
        "# training XGBoost classifier\n",
        "XGB_clf = XGBClassifier(max_depth=10, learning_rate=0.01, n_estimators=1000, colsample_bytree=0.75, subsample=1, tree_method='gpu_hist')\n",
        "XGB_clf.fit(X_train, y_train)"
      ],
      "execution_count": 16,
      "outputs": [
        {
          "output_type": "execute_result",
          "data": {
            "text/plain": [
              "XGBClassifier(base_score=0.5, booster='gbtree', colsample_bylevel=1,\n",
              "              colsample_bynode=1, colsample_bytree=0.75, gamma=0,\n",
              "              learning_rate=0.01, max_delta_step=0, max_depth=10,\n",
              "              min_child_weight=1, missing=None, n_estimators=1000, n_jobs=1,\n",
              "              nthread=None, objective='binary:logistic', random_state=0,\n",
              "              reg_alpha=0, reg_lambda=1, scale_pos_weight=1, seed=None,\n",
              "              silent=None, subsample=1, tree_method='gpu_hist', verbosity=1)"
            ]
          },
          "metadata": {},
          "execution_count": 16
        }
      ]
    },
    {
      "cell_type": "code",
      "metadata": {
        "id": "6ad4zyZWnMp5"
      },
      "source": [
        "# prediction of the probablities\n",
        "prediction = XGB_clf.predict_proba(Test)"
      ],
      "execution_count": 18,
      "outputs": []
    },
    {
      "cell_type": "code",
      "metadata": {
        "id": "VW3G8fMNoJ9M"
      },
      "source": [
        "# the probability that a member will default\n",
        "prediction = prediction[:,1]"
      ],
      "execution_count": 20,
      "outputs": []
    },
    {
      "cell_type": "code",
      "metadata": {
        "id": "tLL6X7qNoXV0"
      },
      "source": [
        "submission = pd.DataFrame(columns=['member_id', 'loan_status'])\n",
        "submission['member_id'], submission['loan_status'] = test_dataset['member_id'], prediction"
      ],
      "execution_count": 23,
      "outputs": []
    },
    {
      "cell_type": "code",
      "metadata": {
        "id": "uTUT8qZTpJKH"
      },
      "source": [
        "submission.to_csv('submission.csv', index=False)"
      ],
      "execution_count": 24,
      "outputs": []
    },
    {
      "cell_type": "code",
      "metadata": {
        "colab": {
          "base_uri": "https://localhost:8080/",
          "height": 204
        },
        "id": "mHqtttxxrxan",
        "outputId": "13a54a79-a6cc-4597-d7b1-a46fbe88b5ed"
      },
      "source": [
        "submission.head()"
      ],
      "execution_count": 25,
      "outputs": [
        {
          "output_type": "execute_result",
          "data": {
            "text/html": [
              "<div>\n",
              "<style scoped>\n",
              "    .dataframe tbody tr th:only-of-type {\n",
              "        vertical-align: middle;\n",
              "    }\n",
              "\n",
              "    .dataframe tbody tr th {\n",
              "        vertical-align: top;\n",
              "    }\n",
              "\n",
              "    .dataframe thead th {\n",
              "        text-align: right;\n",
              "    }\n",
              "</style>\n",
              "<table border=\"1\" class=\"dataframe\">\n",
              "  <thead>\n",
              "    <tr style=\"text-align: right;\">\n",
              "      <th></th>\n",
              "      <th>member_id</th>\n",
              "      <th>loan_status</th>\n",
              "    </tr>\n",
              "  </thead>\n",
              "  <tbody>\n",
              "    <tr>\n",
              "      <th>0</th>\n",
              "      <td>11937648</td>\n",
              "      <td>0.696100</td>\n",
              "    </tr>\n",
              "    <tr>\n",
              "      <th>1</th>\n",
              "      <td>38983318</td>\n",
              "      <td>0.201345</td>\n",
              "    </tr>\n",
              "    <tr>\n",
              "      <th>2</th>\n",
              "      <td>27999917</td>\n",
              "      <td>0.151427</td>\n",
              "    </tr>\n",
              "    <tr>\n",
              "      <th>3</th>\n",
              "      <td>61514932</td>\n",
              "      <td>0.309247</td>\n",
              "    </tr>\n",
              "    <tr>\n",
              "      <th>4</th>\n",
              "      <td>59622821</td>\n",
              "      <td>0.116106</td>\n",
              "    </tr>\n",
              "  </tbody>\n",
              "</table>\n",
              "</div>"
            ],
            "text/plain": [
              "   member_id  loan_status\n",
              "0   11937648     0.696100\n",
              "1   38983318     0.201345\n",
              "2   27999917     0.151427\n",
              "3   61514932     0.309247\n",
              "4   59622821     0.116106"
            ]
          },
          "metadata": {},
          "execution_count": 25
        }
      ]
    },
    {
      "cell_type": "code",
      "metadata": {
        "id": "de9nhcuMr2_a"
      },
      "source": [
        ""
      ],
      "execution_count": null,
      "outputs": []
    }
  ]
}